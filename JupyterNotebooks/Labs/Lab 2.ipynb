{
 "metadata": {
  "language_info": {
   "codemirror_mode": {
    "name": "ipython",
    "version": 3
   },
   "file_extension": ".py",
   "mimetype": "text/x-python",
   "name": "python",
   "nbconvert_exporter": "python",
   "pygments_lexer": "ipython3",
   "version": "3.9.2-final"
  },
  "orig_nbformat": 2,
  "kernelspec": {
   "name": "python3",
   "display_name": "Python 3.9.2 64-bit",
   "metadata": {
    "interpreter": {
     "hash": "61d13df7a42ffca7a307be0af58d096c0e522802459902861b1b0e5c91bd7876"
    }
   }
  }
 },
 "nbformat": 4,
 "nbformat_minor": 2,
 "cells": [
  {
   "cell_type": "markdown",
   "metadata": {},
   "source": [
    "# Lab Two\n",
    "---\n",
    "\n",
    "For this lab we're going to get into logic\n",
    "\n",
    "Our Goals are:\n",
    "- Using Conditionals\n",
    "- Using Loops\n",
    "- Creating a Function\n",
    "- Using a Class"
   ]
  },
  {
   "cell_type": "code",
   "execution_count": 2,
   "metadata": {},
   "outputs": [
    {
     "output_type": "stream",
     "name": "stdout",
     "text": [
      "My laptop will be fully charged for class tomorrow.\n"
     ]
    }
   ],
   "source": [
    "# Create an if statement\n",
    "laptop = True\n",
    "charger = True\n",
    "if laptop and charger:\n",
    "    print(\"My laptop will be fully charged for class tomorrow.\")\n"
   ]
  },
  {
   "cell_type": "code",
   "execution_count": 4,
   "metadata": {},
   "outputs": [
    {
     "output_type": "stream",
     "name": "stdout",
     "text": [
      "Guess I'll starve\n"
     ]
    }
   ],
   "source": [
    "# Create an if else statement\n",
    "money = False\n",
    "if money:\n",
    "    print(\"I'm going to go buy a burger from Mcdonalds\")\n",
    "else:\n",
    "    print(\"Guess I'll starve\")"
   ]
  },
  {
   "cell_type": "code",
   "execution_count": 6,
   "metadata": {},
   "outputs": [
    {
     "output_type": "stream",
     "name": "stdout",
     "text": [
      "Im eating a cheeseburger.\n"
     ]
    }
   ],
   "source": [
    "# Create an if elif else statement\n",
    "Hungry = True\n",
    "has_eaten = True\n",
    "is_full = False\n",
    "if has_eaten:\n",
    "    print (\"Im eating a cheeseburger.\")\n",
    "elif Hungry and is_full:\n",
    "    print (\"Im hungry gimmie food!\")\n",
    "else:\n",
    "    print (\"Guess I'll starve.\")"
   ]
  },
  {
   "cell_type": "code",
   "execution_count": 8,
   "metadata": {},
   "outputs": [
    {
     "output_type": "stream",
     "name": "stdout",
     "text": [
      "0\n1\n2\n3\n4\n5\n6\n7\n8\n9\n"
     ]
    }
   ],
   "source": [
    "# Create a for loop using range(). Go from 0 to 9. Print out each number.\n",
    "number = [\"0\", \"1\", \"2\", \"3\", \"4\", \"5\", \"6\", \"7\", \"8\", \"9\"]\n",
    "for item in number:\n",
    "    print(item)"
   ]
  },
  {
   "cell_type": "code",
   "execution_count": 9,
   "metadata": {},
   "outputs": [
    {
     "output_type": "stream",
     "name": "stdout",
     "text": [
      "Blue\nYellow\nRed\nGreen\nPurple\nMagenta\nLilac\n0\n1\n2\n3\n4\n5\n6\n"
     ]
    }
   ],
   "source": [
    "# Create a for loop iterating through this list and printing out the value.\n",
    "arr = ['Blue', 'Yellow', 'Red', 'Green', 'Purple', 'Magenta', 'Lilac']\n",
    "for item in arr:\n",
    "    print(item)\n",
    "# Get the length of the list above and print it.\n",
    "for value in range(7):\n",
    "    print(value)"
   ]
  },
  {
   "cell_type": "code",
   "execution_count": 12,
   "metadata": {},
   "outputs": [
    {
     "output_type": "stream",
     "name": "stdout",
     "text": [
      "This is not the number I was thinking.\nThis is not the number I was thinking.\nThis is not the number I was thinking.\nThis is not the number I was thinking.\nThis is not the number I was thinking.\nThis is it! The number I was thinking was: 5\n"
     ]
    }
   ],
   "source": [
    "# Create a while loop that ends after 6 times through. Print something for each pass.\n",
    "import random\n",
    "\n",
    "number = random.randint(0, 6)\n",
    "\n",
    "position = 0\n",
    "\n",
    "while position != number:\n",
    "    print(\"This is not the number I was thinking.\")\n",
    "    position += 1\n",
    "\n",
    "print(\"This is it! The number I was thinking was:\", number)"
   ]
  },
  {
   "cell_type": "code",
   "execution_count": 17,
   "metadata": {
    "tags": []
   },
   "outputs": [
    {
     "output_type": "execute_result",
     "data": {
      "text/plain": [
       "45"
      ]
     },
     "metadata": {},
     "execution_count": 17
    }
   ],
   "source": [
    "# Create a function to add 2 numbers together. Print out the number\n",
    "import math\n",
    "\n",
    "22+23"
   ]
  },
  {
   "cell_type": "code",
   "execution_count": 26,
   "metadata": {},
   "outputs": [
    {
     "output_type": "stream",
     "name": "stdout",
     "text": [
      "{0} is an even number\n"
     ]
    }
   ],
   "source": [
    "# Create a function that tells you if a number is odd or even and print the result.\n"
   ]
  },
  {
   "cell_type": "code",
   "execution_count": 29,
   "metadata": {
    "tags": []
   },
   "outputs": [
    {
     "output_type": "error",
     "ename": "TypeError",
     "evalue": "__init__() missing 1 required positional argument: 'breed'",
     "traceback": [
      "\u001b[1;31m---------------------------------------------------------------------------\u001b[0m",
      "\u001b[1;31mTypeError\u001b[0m                                 Traceback (most recent call last)",
      "\u001b[1;32m<ipython-input-29-271b0e9932a3>\u001b[0m in \u001b[0;36m<module>\u001b[1;34m\u001b[0m\n\u001b[0;32m     14\u001b[0m \u001b[1;33m\u001b[0m\u001b[0m\n\u001b[0;32m     15\u001b[0m \u001b[1;32mif\u001b[0m \u001b[0m__name__\u001b[0m \u001b[1;33m==\u001b[0m \u001b[1;34m\"__main__\"\u001b[0m\u001b[1;33m:\u001b[0m\u001b[1;33m\u001b[0m\u001b[1;33m\u001b[0m\u001b[0m\n\u001b[1;32m---> 16\u001b[1;33m    \u001b[0mShibu\u001b[0m \u001b[1;33m=\u001b[0m \u001b[0mDog\u001b[0m\u001b[1;33m(\u001b[0m\u001b[1;36m75\u001b[0m\u001b[1;33m,\u001b[0m \u001b[1;36m2\u001b[0m\u001b[1;33m,\u001b[0m \u001b[1;34m\"Shibu\"\u001b[0m \u001b[1;34m\"Doggo\"\u001b[0m\u001b[1;33m)\u001b[0m\u001b[1;33m\u001b[0m\u001b[1;33m\u001b[0m\u001b[0m\n\u001b[0m\u001b[0;32m     17\u001b[0m    \u001b[0mShibu\u001b[0m\u001b[1;33m.\u001b[0m\u001b[0mwhat_am_I\u001b[0m\u001b[1;33m(\u001b[0m\u001b[1;33m)\u001b[0m\u001b[1;33m\u001b[0m\u001b[1;33m\u001b[0m\u001b[0m\n",
      "\u001b[1;31mTypeError\u001b[0m: __init__() missing 1 required positional argument: 'breed'"
     ]
    }
   ],
   "source": [
    "# Initialize an instance of the following class. Use a variable to store the object and then call the info function to print out the attributes.\n",
    "class Dog(object):\n",
    "    def __init__(self, name, height, weight, breed):\n",
    "        self.name = name\n",
    "        self.height = height\n",
    "        self.weight = weight\n",
    "        self.breed = breed\n",
    "\n",
    "    def info(self):\n",
    "        print(\"Name:\", self.name)\n",
    "        print(\"Weight:\", str(self.weight) + \" Pounds\")\n",
    "        print(\"Height:\", str(self.height) + \" Inches\")\n",
    "        print(\"Breed:\", self.breed)\n",
    "\n",
    "if __name__ == \"__main__\":\n",
    "   Shibu = Dog(75, 2, \"Shibu\" \"Doggo\") \n",
    "   Shibu.what_am_I()    "
   ]
  },
  {
   "cell_type": "code",
   "execution_count": null,
   "metadata": {},
   "outputs": [],
   "source": []
  }
 ]
}